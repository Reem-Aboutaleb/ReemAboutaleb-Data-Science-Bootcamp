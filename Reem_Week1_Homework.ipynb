{
  "nbformat": 4,
  "nbformat_minor": 0,
  "metadata": {
    "colab": {
      "provenance": []
    },
    "kernelspec": {
      "name": "python3",
      "display_name": "Python 3"
    },
    "language_info": {
      "name": "python"
    }
  },
  "cells": [
    {
      "cell_type": "markdown",
      "source": [
        "<div align=\"center\">\n",
        "\n",
        "# 🐍 Data Science Bootcamp – Week 1 Homework  \n",
        "**Name:** Reem Aboutaleb  \n",
        "**Instructor:** Shaahid Ahmed\n",
        "**Date:** October 7, 2025  \n",
        "\n",
        "<hr style=\"border:2px solid #7dc4e4;width:60%\">\n",
        "\n",
        "</div>\n",
        "\n",
        "\n"
      ],
      "metadata": {
        "id": "-3zc_vpAn-89"
      }
    },
    {
      "cell_type": "code",
      "execution_count": null,
      "metadata": {
        "colab": {
          "base_uri": "https://localhost:8080/"
        },
        "outputId": "8eaf1194-58c7-4198-992b-d51302907d35",
        "id": "ounrjtURmJoX"
      },
      "outputs": [
        {
          "output_type": "stream",
          "name": "stdout",
          "text": [
            "Enter a word: Education\n",
            "Number of vowels: 5\n"
          ]
        }
      ],
      "source": [
        "word = input(\"Enter a word: \")\n",
        "vowels = \"aeiouAEIOU\"\n",
        "count = sum(1 for ch in word if ch in vowels)\n",
        "print(\"Number of vowels:\", count)\n",
        "\n"
      ]
    },
    {
      "cell_type": "code",
      "source": [
        "\n",
        "# Q2. Print each animal in ALL CAPS\n",
        "\n",
        "animals = ['tiger', 'elephant', 'monkey', 'zebra', 'panther']\n",
        "for animal in animals:\n",
        "    print(animal.upper())\n"
      ],
      "metadata": {
        "id": "lzLuc2k6jxqN",
        "colab": {
          "base_uri": "https://localhost:8080/"
        },
        "outputId": "fe94ec89-a926-45fd-a3f3-1a8e5b504fb3"
      },
      "execution_count": null,
      "outputs": [
        {
          "output_type": "stream",
          "name": "stdout",
          "text": [
            "TIGER\n",
            "ELEPHANT\n",
            "MONKEY\n",
            "ZEBRA\n",
            "PANTHER\n"
          ]
        }
      ]
    },
    {
      "cell_type": "code",
      "source": [
        "# Q3. Print numbers 1–20 and say whether they are odd or even\n",
        "\n",
        "for i in range(1, 21):\n",
        "    if i % 2 == 0:\n",
        "        print(f\"{i} is even\")\n",
        "    else:\n",
        "        print(f\"{i} is odd\")\n"
      ],
      "metadata": {
        "id": "Ro8bpPPskKdA",
        "colab": {
          "base_uri": "https://localhost:8080/"
        },
        "outputId": "835ae967-9fd6-4fdc-d281-36e98fb6576e"
      },
      "execution_count": null,
      "outputs": [
        {
          "output_type": "stream",
          "name": "stdout",
          "text": [
            "1 is odd\n",
            "2 is even\n",
            "3 is odd\n",
            "4 is even\n",
            "5 is odd\n",
            "6 is even\n",
            "7 is odd\n",
            "8 is even\n",
            "9 is odd\n",
            "10 is even\n",
            "11 is odd\n",
            "12 is even\n",
            "13 is odd\n",
            "14 is even\n",
            "15 is odd\n",
            "16 is even\n",
            "17 is odd\n",
            "18 is even\n",
            "19 is odd\n",
            "20 is even\n"
          ]
        }
      ]
    },
    {
      "cell_type": "code",
      "source": [
        "# Q4. Check if a word is a palindrome\n",
        "\n",
        "word = input(\"Enter a word: \")\n",
        "if word == word[::-1]:\n",
        "    print(\"It's a palindrome!\")\n",
        "else:\n",
        "    print(\"Not a palindrome.\")\n",
        "\n"
      ],
      "metadata": {
        "colab": {
          "base_uri": "https://localhost:8080/"
        },
        "id": "rkSMmdtokwkv",
        "outputId": "c17567af-b54d-4222-e8b4-bb3c3c79a777"
      },
      "execution_count": null,
      "outputs": [
        {
          "output_type": "stream",
          "name": "stdout",
          "text": [
            "Enter a word: Level\n",
            "Not a palindrome.\n"
          ]
        }
      ]
    },
    {
      "cell_type": "code",
      "source": [
        "# Q5. Sum of two integers using a function\n",
        "\n",
        "def sum_of_integers(a, b):\n",
        "    return a + b\n",
        "\n",
        "a = int(input(\"Enter first integer: \"))\n",
        "b = int(input(\"Enter second integer: \"))\n",
        "print(\"Sum:\", sum_of_integers(a, b))\n",
        "\n",
        "\n"
      ],
      "metadata": {
        "colab": {
          "base_uri": "https://localhost:8080/"
        },
        "id": "SnkDZq5TlGUU",
        "outputId": "78be0e3f-99ae-4598-dff3-396760572c62"
      },
      "execution_count": null,
      "outputs": [
        {
          "output_type": "stream",
          "name": "stdout",
          "text": [
            "Enter first integer: 5\n",
            "Enter second integer: 7\n",
            "Sum: 12\n"
          ]
        }
      ]
    },
    {
      "cell_type": "markdown",
      "source": [
        "---\n",
        "✅ **Homework Completed by:** Reem Aboutaleb  \n",
        "Thank you for reviewing my Week 1 submission!\n"
      ],
      "metadata": {
        "id": "VPWN7DppmiUH"
      }
    }
  ]
}