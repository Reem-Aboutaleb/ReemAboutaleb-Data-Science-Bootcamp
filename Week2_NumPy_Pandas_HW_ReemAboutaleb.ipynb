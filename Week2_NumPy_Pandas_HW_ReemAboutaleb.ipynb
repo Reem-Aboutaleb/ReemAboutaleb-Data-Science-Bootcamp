{
  "nbformat": 4,
  "nbformat_minor": 0,
  "metadata": {
    "colab": {
      "provenance": []
    },
    "kernelspec": {
      "name": "python3",
      "display_name": "Python 3"
    },
    "language_info": {
      "name": "python"
    }
  },
  "cells": [
    {
      "cell_type": "markdown",
      "source": [
        "# Week 2 – NumPy & Pandas Homework  \n",
        "**Name:** Reem Aboutaleb  \n",
        "\n",
        "This notebook includes my solutions for both NumPy and Pandas practice questions.\n"
      ],
      "metadata": {
        "id": "Qf-3dcUg72EB"
      }
    },
    {
      "cell_type": "markdown",
      "source": [
        "Part A — NumPy"
      ],
      "metadata": {
        "id": "U8EghMc69VbQ"
      }
    },
    {
      "cell_type": "code",
      "source": [
        "import numpy as np\n"
      ],
      "metadata": {
        "id": "y-mD4xO972S9"
      },
      "execution_count": null,
      "outputs": []
    },
    {
      "cell_type": "code",
      "source": [
        "# 1️⃣ Define two custom numpy arrays (A, B) and stack vertically & horizontally\n",
        "A = np.array([[1, 5, 9],\n",
        "              [4, 7, 10]])\n",
        "\n",
        "B = np.array([[2, 5, 8],\n",
        "              [3, 6, 9]])\n",
        "\n",
        "v_stack = np.vstack((A, B))   # vertical stack (A over B)\n",
        "h_stack = np.hstack((A, B))   # horizontal stack (A beside B)\n",
        "\n",
        "print(\"A:\\n\", A)\n",
        "print(\"\\nB:\\n\", B)\n",
        "print(\"\\nVertical Stack:\\n\", v_stack)\n",
        "print(\"\\nHorizontal Stack:\\n\", h_stack)\n",
        "\n"
      ],
      "metadata": {
        "colab": {
          "base_uri": "https://localhost:8080/"
        },
        "id": "5Xo9-vwt76Bw",
        "outputId": "94e9205c-5f8f-4d7c-bf9b-a8427ae21644"
      },
      "execution_count": null,
      "outputs": [
        {
          "output_type": "stream",
          "name": "stdout",
          "text": [
            "A:\n",
            " [[ 1  5  9]\n",
            " [ 4  7 10]]\n",
            "\n",
            "B:\n",
            " [[2 5 8]\n",
            " [3 6 9]]\n",
            "\n",
            "Vertical Stack:\n",
            " [[ 1  5  9]\n",
            " [ 4  7 10]\n",
            " [ 2  5  8]\n",
            " [ 3  6  9]]\n",
            "\n",
            "Horizontal Stack:\n",
            " [[ 1  5  9  2  5  8]\n",
            " [ 4  7 10  3  6  9]]\n"
          ]
        }
      ]
    },
    {
      "cell_type": "code",
      "source": [
        "# 2️⃣ Find common elements between A and B (Intersection)\n",
        "common = np.intersect1d(A, B)\n",
        "print(\"Common elements:\", common)\n",
        "\n"
      ],
      "metadata": {
        "colab": {
          "base_uri": "https://localhost:8080/"
        },
        "id": "tGKujOiZ7-9h",
        "outputId": "83cc2639-2c63-4b8a-ec74-47805ae15a3d"
      },
      "execution_count": null,
      "outputs": [
        {
          "output_type": "stream",
          "name": "stdout",
          "text": [
            "Common elements: [5 9]\n"
          ]
        }
      ]
    },
    {
      "cell_type": "code",
      "source": [
        "# 3️⃣ Extract numbers from A between 5 and 10\n",
        "mask = (A >= 5) & (A <= 10)\n",
        "vals_mask = A[mask]\n",
        "print(\"Values in [5,10] (boolean mask):\", vals_mask)\n",
        "\n",
        "# Using np.where()\n",
        "idx = np.where((A >= 5) & (A <= 10))\n",
        "print(\"Indices from np.where:\", idx)\n",
        "print(\"Values from np.where:\", A[idx])\n",
        "\n"
      ],
      "metadata": {
        "colab": {
          "base_uri": "https://localhost:8080/"
        },
        "id": "m1_F_5bD8DD7",
        "outputId": "886c34eb-f060-405d-859a-8b5dcfc6b8a7"
      },
      "execution_count": null,
      "outputs": [
        {
          "output_type": "stream",
          "name": "stdout",
          "text": [
            "Values in [5,10] (boolean mask): [ 5  9  7 10]\n",
            "Indices from np.where: (array([0, 0, 1, 1]), array([1, 2, 1, 2]))\n",
            "Values from np.where: [ 5  9  7 10]\n"
          ]
        }
      ]
    },
    {
      "cell_type": "code",
      "source": [
        "# 4️⃣ Filter iris_2d rows where petallength > 1.5 and sepallength < 5.0\n",
        "url = 'https://archive.ics.uci.edu/ml/machine-learning-databases/iris/iris.data'\n",
        "iris_2d = np.genfromtxt(url, delimiter=',', dtype='float', usecols=[0,1,2,3])\n",
        "\n",
        "filtered_rows = iris_2d[(iris_2d[:, 2] > 1.5) & (iris_2d[:, 0] < 5.0)]\n",
        "print(\"First 5 filtered rows:\\n\", filtered_rows[:5])\n",
        "print(\"Total rows matching:\", filtered_rows.shape[0])\n",
        "\n"
      ],
      "metadata": {
        "colab": {
          "base_uri": "https://localhost:8080/"
        },
        "id": "ez3-tgcc8GPd",
        "outputId": "38a38758-c2c6-4bc4-cfcb-932db59bb760"
      },
      "execution_count": null,
      "outputs": [
        {
          "output_type": "stream",
          "name": "stdout",
          "text": [
            "First 5 filtered rows:\n",
            " [[4.8 3.4 1.6 0.2]\n",
            " [4.8 3.4 1.9 0.2]\n",
            " [4.7 3.2 1.6 0.2]\n",
            " [4.8 3.1 1.6 0.2]\n",
            " [4.9 2.4 3.3 1. ]]\n",
            "Total rows matching: 6\n"
          ]
        }
      ]
    },
    {
      "cell_type": "markdown",
      "source": [
        "Part B — Pandas"
      ],
      "metadata": {
        "id": "LvyHpteR8QoV"
      }
    },
    {
      "cell_type": "code",
      "source": [
        "import pandas as pd\n",
        "import numpy as np\n",
        "\n",
        "\n"
      ],
      "metadata": {
        "id": "FGwOql8h8ZTy"
      },
      "execution_count": null,
      "outputs": []
    },
    {
      "cell_type": "code",
      "source": [
        "# 1️⃣ Filter 'Manufacturer', 'Model', 'Type' for every 20th row (starting at 0)\n",
        "df = pd.read_csv('https://raw.githubusercontent.com/selva86/datasets/master/Cars93_miss.csv')\n",
        "\n",
        "every_20th = df.iloc[::20, :]\n",
        "result_cols = every_20th[['Manufacturer', 'Model', 'Type']]\n",
        "\n",
        "print(\"Every 20th row (selected columns):\\n\")\n",
        "print(result_cols)\n",
        "\n",
        "\n"
      ],
      "metadata": {
        "colab": {
          "base_uri": "https://localhost:8080/"
        },
        "id": "hfm4cLpz8caH",
        "outputId": "4639fb48-63a6-4944-c1b6-b0615c43d7f2"
      },
      "execution_count": null,
      "outputs": [
        {
          "output_type": "stream",
          "name": "stdout",
          "text": [
            "Every 20th row (selected columns):\n",
            "\n",
            "   Manufacturer    Model     Type\n",
            "0         Acura  Integra    Small\n",
            "20     Chrysler  LeBaron  Compact\n",
            "40        Honda  Prelude   Sporty\n",
            "60      Mercury   Cougar  Midsize\n",
            "80       Subaru   Loyale    Small\n"
          ]
        }
      ]
    },
    {
      "cell_type": "code",
      "source": [
        "# 2️⃣ Replace missing values in Min.Price and Max.Price with their means (no chained-assignment warning)\n",
        "df = pd.read_csv('https://raw.githubusercontent.com/selva86/datasets/master/Cars93_miss.csv')\n",
        "\n",
        "# Explicit assignment (future-proof)\n",
        "df['Min.Price'] = df['Min.Price'].fillna(df['Min.Price'].mean())\n",
        "df['Max.Price'] = df['Max.Price'].fillna(df['Max.Price'].mean())\n",
        "\n",
        "print(\"NaN values replaced with column means.\\n\")\n",
        "print(df[['Min.Price', 'Max.Price']].head())\n",
        "print(\"\\nMissing values remaining:\\n\", df[['Min.Price', 'Max.Price']].isna().sum())\n",
        "\n",
        "\n",
        "\n"
      ],
      "metadata": {
        "colab": {
          "base_uri": "https://localhost:8080/"
        },
        "id": "Q6EL-FDt8lrl",
        "outputId": "e3b06666-820a-48f2-e279-32139e59a5e2"
      },
      "execution_count": null,
      "outputs": [
        {
          "output_type": "stream",
          "name": "stdout",
          "text": [
            "NaN values replaced with column means.\n",
            "\n",
            "   Min.Price  Max.Price\n",
            "0  12.900000  18.800000\n",
            "1  29.200000  38.700000\n",
            "2  25.900000  32.300000\n",
            "3  17.118605  44.600000\n",
            "4  17.118605  21.459091\n",
            "\n",
            "Missing values remaining:\n",
            " Min.Price    0\n",
            "Max.Price    0\n",
            "dtype: int64\n"
          ]
        }
      ]
    },
    {
      "cell_type": "code",
      "source": [
        "# 3️⃣ Get rows where row sum > 100 (reproducible)\n",
        "np.random.seed(42)\n",
        "\n",
        "df = pd.DataFrame(np.random.randint(10, 40, 60).reshape(-1, 4),\n",
        "                  columns=['A','B','C','D'])\n",
        "\n",
        "rows_gt_100 = df[df.sum(axis=1) > 100]\n",
        "print(\"Rows where sum > 100:\\n\", rows_gt_100)\n",
        "\n"
      ],
      "metadata": {
        "colab": {
          "base_uri": "https://localhost:8080/"
        },
        "id": "u_z9QnNF86MS",
        "outputId": "602dd326-2b8a-49f7-fd9c-4263596c2e04"
      },
      "execution_count": null,
      "outputs": [
        {
          "output_type": "stream",
          "name": "stdout",
          "text": [
            "Rows where sum > 100:\n",
            "      A   B   C   D\n",
            "0   16  29  38  24\n",
            "1   20  17  38  30\n",
            "2   16  35  28  32\n",
            "3   20  20  33  30\n",
            "5   31  30  11  33\n",
            "8   35  31  38  21\n",
            "9   34  26  36  36\n",
            "10  19  37  37  25\n",
            "11  24  39  39  24\n",
            "12  39  28  21  32\n"
          ]
        }
      ]
    },
    {
      "cell_type": "markdown",
      "source": [
        "# Thank You  \n",
        "This notebook was completed by **Reem Aboutaleb** for Week 2 Homework (NumPy & Pandas).  \n",
        "Thank you for reviewing my work!\n"
      ],
      "metadata": {
        "id": "9xoX7ijH9lP1"
      }
    }
  ]
}